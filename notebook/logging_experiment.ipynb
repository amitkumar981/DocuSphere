{
 "cells": [
  {
   "cell_type": "code",
   "execution_count": 1,
   "id": "c368fe51",
   "metadata": {},
   "outputs": [
    {
     "name": "stdout",
     "output_type": "stream",
     "text": [
      "all ok\n"
     ]
    }
   ],
   "source": [
    "print(\"all ok\")"
   ]
  },
  {
   "cell_type": "code",
   "execution_count": 2,
   "id": "12d70060",
   "metadata": {},
   "outputs": [],
   "source": [
    "#import libraries\n",
    "import logging\n",
    "import os\n",
    "from datetime import datetime"
   ]
  },
  {
   "cell_type": "code",
   "execution_count": 3,
   "id": "e93e0bf1",
   "metadata": {},
   "outputs": [],
   "source": [
    "#create log dir\n",
    "logs_dir=os.path.join(os.getcwd(),'logs')\n",
    "os.makedirs(logs_dir,exist_ok=True)"
   ]
  },
  {
   "cell_type": "code",
   "execution_count": 4,
   "id": "c4b7b2e6",
   "metadata": {},
   "outputs": [],
   "source": [
    "log_file=f\"{datetime.now().strftime('%m_%d_%Y_%H_%M_%S')}.log\""
   ]
  },
  {
   "cell_type": "code",
   "execution_count": 5,
   "id": "3ea17a8b",
   "metadata": {},
   "outputs": [
    {
     "data": {
      "text/plain": [
       "'09_03_2025_12_22_13.log'"
      ]
     },
     "execution_count": 5,
     "metadata": {},
     "output_type": "execute_result"
    }
   ],
   "source": [
    "log_file"
   ]
  },
  {
   "cell_type": "code",
   "execution_count": 6,
   "id": "9e512452",
   "metadata": {},
   "outputs": [],
   "source": [
    "logfile_path=os.path.join(logs_dir,log_file)"
   ]
  },
  {
   "cell_type": "code",
   "execution_count": 7,
   "id": "4464e292",
   "metadata": {},
   "outputs": [
    {
     "data": {
      "text/plain": [
       "'c:\\\\Users\\\\redhu\\\\OneDrive\\\\Desktop\\\\document_portal\\\\notebook\\\\logs\\\\09_03_2025_12_22_13.log'"
      ]
     },
     "execution_count": 7,
     "metadata": {},
     "output_type": "execute_result"
    }
   ],
   "source": [
    "logfile_path"
   ]
  },
  {
   "cell_type": "code",
   "execution_count": 8,
   "id": "7cb64dee",
   "metadata": {},
   "outputs": [],
   "source": [
    "logging.basicConfig(\n",
    "    filename=logfile_path,\n",
    "    format=\"[ %(asctime)s ] %(levelname)s %(name)s (line:%(lineno)d) - %(message)s\",\n",
    "    level=logging.INFO\n",
    ")"
   ]
  },
  {
   "cell_type": "code",
   "execution_count": 9,
   "id": "9825ad30",
   "metadata": {},
   "outputs": [],
   "source": [
    "logger=logging.getLogger(\"document portal\")"
   ]
  },
  {
   "cell_type": "code",
   "execution_count": 10,
   "id": "9929a1d8",
   "metadata": {},
   "outputs": [],
   "source": [
    "logger.info(\"this in the message\")"
   ]
  },
  {
   "cell_type": "code",
   "execution_count": 11,
   "id": "fa6f9b9e",
   "metadata": {},
   "outputs": [],
   "source": [
    "import structlog\n",
    "logger=structlog.get_logger()"
   ]
  },
  {
   "cell_type": "code",
   "execution_count": 12,
   "id": "7b68ed85",
   "metadata": {},
   "outputs": [
    {
     "name": "stdout",
     "output_type": "stream",
     "text": [
      "2025-09-03 12:22:21 [info     ] user upload file               filename=report.pdf user_id=123\n"
     ]
    }
   ],
   "source": [
    "logger.info(\"user upload file\",user_id=123,filename=\"report.pdf\")"
   ]
  },
  {
   "cell_type": "code",
   "execution_count": 13,
   "id": "2c3fe328",
   "metadata": {},
   "outputs": [
    {
     "name": "stdout",
     "output_type": "stream",
     "text": [
      "2025-09-03 12:23:51 [error    ] Failed to process Pdf          error='file not found' user_id=123\n"
     ]
    }
   ],
   "source": [
    "logger.error(\"Failed to process Pdf\",error=\"file not found\",user_id=123)"
   ]
  },
  {
   "cell_type": "code",
   "execution_count": null,
   "id": "d0927972",
   "metadata": {},
   "outputs": [],
   "source": []
  }
 ],
 "metadata": {
  "kernelspec": {
   "display_name": ".venv",
   "language": "python",
   "name": "python3"
  },
  "language_info": {
   "codemirror_mode": {
    "name": "ipython",
    "version": 3
   },
   "file_extension": ".py",
   "mimetype": "text/x-python",
   "name": "python",
   "nbconvert_exporter": "python",
   "pygments_lexer": "ipython3",
   "version": "3.11.13"
  }
 },
 "nbformat": 4,
 "nbformat_minor": 5
}
