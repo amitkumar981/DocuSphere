{
 "cells": [
  {
   "cell_type": "code",
   "execution_count": 64,
   "id": "54d4963b",
   "metadata": {},
   "outputs": [],
   "source": [
    "#import libraries\n",
    "from langchain.document_loaders import PyPDFLoader\n",
    "from langchain_openai import ChatOpenAI\n",
    "from langchain.text_splitter import RecursiveCharacterTextSplitter\n",
    "from langchain.embeddings import OpenAIEmbeddings\n",
    "from langchain.vectorstores import FAISS\n",
    "from langchain.embeddings import OpenAIEmbeddings\n",
    "from langchain_core.runnables import RunnablePassthrough\n",
    "from langchain.prompts import PromptTemplate\n",
    "from langchain_core.output_parsers import StrOutputParser\n",
    "from dotenv import load_dotenv\n",
    "import os\n"
   ]
  },
  {
   "cell_type": "code",
   "execution_count": 74,
   "id": "04452362",
   "metadata": {},
   "outputs": [
    {
     "data": {
      "text/plain": [
       "True"
      ]
     },
     "execution_count": 74,
     "metadata": {},
     "output_type": "execute_result"
    }
   ],
   "source": [
    "#load credentials\n",
    "load_dotenv(override=True)\n"
   ]
  },
  {
   "cell_type": "code",
   "execution_count": 32,
   "id": "94854532",
   "metadata": {},
   "outputs": [],
   "source": [
    "#define model\n",
    "LLM=ChatOpenAI(model=\"gpt-4o-mini\")"
   ]
  },
  {
   "cell_type": "code",
   "execution_count": 33,
   "id": "16ee1e66",
   "metadata": {},
   "outputs": [
    {
     "name": "stderr",
     "output_type": "stream",
     "text": [
      "C:\\Users\\redhu\\AppData\\Local\\Temp\\ipykernel_26700\\4232507645.py:2: LangChainDeprecationWarning: The class `OpenAIEmbeddings` was deprecated in LangChain 0.0.9 and will be removed in 1.0. An updated version of the class exists in the :class:`~langchain-openai package and should be used instead. To use it run `pip install -U :class:`~langchain-openai` and import as `from :class:`~langchain_openai import OpenAIEmbeddings``.\n",
      "  embedding_model=OpenAIEmbeddings(model=\"text-embedding-3-small\")\n"
     ]
    }
   ],
   "source": [
    "#embedding_model\n",
    "embedding_model=OpenAIEmbeddings(model=\"text-embedding-3-small\")\n"
   ]
  },
  {
   "cell_type": "markdown",
   "id": "740e86a2",
   "metadata": {},
   "source": [
    "## 1. Data Injection"
   ]
  },
  {
   "cell_type": "code",
   "execution_count": 4,
   "id": "37aa16c8",
   "metadata": {},
   "outputs": [
    {
     "data": {
      "text/plain": [
       "'c:\\\\Users\\\\redhu\\\\OneDrive\\\\Desktop\\\\document_portal\\\\notebook'"
      ]
     },
     "execution_count": 4,
     "metadata": {},
     "output_type": "execute_result"
    }
   ],
   "source": [
    "#get the data data path\n",
    "os.getcwd() "
   ]
  },
  {
   "cell_type": "code",
   "execution_count": 13,
   "id": "1975b050",
   "metadata": {},
   "outputs": [],
   "source": [
    "file_path=os.path.join(os.getcwd(), \"data\", \"sample.pdf\")"
   ]
  },
  {
   "cell_type": "code",
   "execution_count": 14,
   "id": "8abeec74",
   "metadata": {},
   "outputs": [],
   "source": [
    "loader=PyPDFLoader(file_path)\n"
   ]
  },
  {
   "cell_type": "code",
   "execution_count": 15,
   "id": "11e0226e",
   "metadata": {},
   "outputs": [],
   "source": [
    "documents=loader.load()"
   ]
  },
  {
   "cell_type": "code",
   "execution_count": 16,
   "id": "5e6fdca6",
   "metadata": {},
   "outputs": [
    {
     "data": {
      "text/plain": [
       "7"
      ]
     },
     "execution_count": 16,
     "metadata": {},
     "output_type": "execute_result"
    }
   ],
   "source": [
    "len(documents)"
   ]
  },
  {
   "cell_type": "code",
   "execution_count": 17,
   "id": "11388069",
   "metadata": {},
   "outputs": [
    {
     "data": {
      "text/plain": [
       "[Document(metadata={'producer': 'Skia/PDF m136', 'creator': 'Mozilla/5.0 (Windows NT 10.0; Win64; x64) AppleWebKit/537.36 (KHTML, like Gecko) Chrome/136.0.0.0 Safari/537.36 Edg/136.0.0.0', 'creationdate': '2025-05-10T23:15:04+00:00', 'title': \"Understanding LSTM Networks -- colah's blog\", 'moddate': '2025-05-10T23:15:04+00:00', 'source': 'c:\\\\Users\\\\redhu\\\\OneDrive\\\\Desktop\\\\document_portal\\\\notebook\\\\data\\\\sample.pdf', 'total_pages': 7, 'page': 0, 'page_label': '1'}, page_content='Understanding LSTM Networks\\nPosted on August 27, 2015\\nRecurrent Neural Networks\\nHumans don’t start their thinking from scratch every second. As you read this essay, you understand each word basedon your understanding of previous words. You don’t throw everything away and start thinking from scratch again. Yourthoughts have persistence.\\nTraditional neural networks can’t do this, and it seems like a major shortcoming. For example, imagine you want toclassify what kind of event is happening at every point in a movie. It’s unclear how a traditional neural network coulduse its reasoning about previous events in the film to inform later ones.\\nRecurrent neural networks address this issue. They are networks with loops in them, allowing information to persist.\\nRecurrent Neural Networks have loops.\\nIn the above diagram, a chunk of neural network, , looks at some input  and outputs a value . A loop allowsinformation to be passed from one step of the network to the next.\\nThese loops make recurrent neural networks seem kind of mysterious. However, if you think a bit more, it turns outthat they aren’t all that different than a normal neural network. A recurrent neural network can be thought of asmultiple copies of the same network, each passing a message to a successor. Consider what happens if we unroll theloop:\\nAn unrolled recurrent neural network.\\nThis chain-like nature reveals that recurrent neural networks are intimately related to sequences and lists. They’re thenatural architecture of neural network to use for such data.\\nAnd they certainly are used! In the last few years, there have been incredible success applying RNNs to a variety ofproblems: speech recognition, language modeling, translation, image captioning… The list goes on. I’ll leave discussionof the amazing feats one can achieve with RNNs to Andrej Karpathy’s excellent blog post, The UnreasonableEffectiveness of Recurrent Neural Networks (http://karpathy.github.io/2015/05/21/rnn-effectiveness/). But they reallyare pretty amazing.\\nA xt ht'),\n",
       " Document(metadata={'producer': 'Skia/PDF m136', 'creator': 'Mozilla/5.0 (Windows NT 10.0; Win64; x64) AppleWebKit/537.36 (KHTML, like Gecko) Chrome/136.0.0.0 Safari/537.36 Edg/136.0.0.0', 'creationdate': '2025-05-10T23:15:04+00:00', 'title': \"Understanding LSTM Networks -- colah's blog\", 'moddate': '2025-05-10T23:15:04+00:00', 'source': 'c:\\\\Users\\\\redhu\\\\OneDrive\\\\Desktop\\\\document_portal\\\\notebook\\\\data\\\\sample.pdf', 'total_pages': 7, 'page': 1, 'page_label': '2'}, page_content='Essential to these successes is the use of “LSTMs,” a very special kind of recurrent neural network which works, formany tasks, much much better than the standard version. Almost all exciting results based on recurrent neuralnetworks are achieved with them. It’s these LSTMs that this essay will explore.\\nThe Problem of Long-Term Dependencies\\nOne of the appeals of RNNs is the idea that they might be able to connect previous information to the present task,such as using previous video frames might inform the understanding of the present frame. If RNNs could do this, they’dbe extremely useful. But can they? It depends.\\nSometimes, we only need to look at recent information to perform the present task. For example, consider a languagemodel trying to predict the next word based on the previous ones. If we are trying to predict the last word in “theclouds are in the sky,” we don’t need any further context – it’s pretty obvious the next word is going to be sky. In suchcases, where the gap between the relevant information and the place that it’s needed is small, RNNs can learn to usethe past information.\\nBut there are also cases where we need more context. Consider trying to predict the last word in the text “I grew up inFrance… I speak fluent French.” Recent information suggests that the next word is probably the name of a language,but if we want to narrow down which language, we need the context of France, from further back. It’s entirely possiblefor the gap between the relevant information and the point where it is needed to become very large.\\nUnfortunately, as that gap grows, RNNs become unable to learn to connect the information.\\nIn theory, RNNs are absolutely capable of handling such “long-term dependencies.” A human could carefully pickparameters for them to solve toy problems of this form. Sadly, in practice, RNNs don’t seem to be able to learn them.The problem was explored in depth by Hochreiter (1991) [German](http://people.idsia.ch/~juergen/SeppHochreiter1991ThesisAdvisorSchmidhuber.pdf) and Bengio, et al. (1994)(http://www-dsi.ing.unifi.it/~paolo/ps/tnn-94-gradient.pdf), who found some pretty fundamental reasons why it mightbe difficult.\\nThankfully, LSTMs don’t have this problem!\\nLSTM Networks\\nLong Short Term Memory networks – usually just called “LSTMs” – are a special kind of RNN, capable of learninglong-term dependencies. They were introduced by Hochreiter & Schmidhuber (1997)(http://www.bioinf.jku.at/publications/older/2604.pdf), and were refined and popularized by many people in followingwork. They work tremendously well on a large variety of problems, and are now widely used.\\nLSTMs are explicitly designed to avoid the long-term dependency problem. Remembering information for long periodsof time is practically their default behavior, not something they struggle to learn!\\nAll recurrent neural networks have the form of a chain of repeating modules of neural network. In standard RNNs, thisrepeating module will have a very simple structure, such as a single tanh layer.\\n1'),\n",
       " Document(metadata={'producer': 'Skia/PDF m136', 'creator': 'Mozilla/5.0 (Windows NT 10.0; Win64; x64) AppleWebKit/537.36 (KHTML, like Gecko) Chrome/136.0.0.0 Safari/537.36 Edg/136.0.0.0', 'creationdate': '2025-05-10T23:15:04+00:00', 'title': \"Understanding LSTM Networks -- colah's blog\", 'moddate': '2025-05-10T23:15:04+00:00', 'source': 'c:\\\\Users\\\\redhu\\\\OneDrive\\\\Desktop\\\\document_portal\\\\notebook\\\\data\\\\sample.pdf', 'total_pages': 7, 'page': 2, 'page_label': '3'}, page_content='The repeating module in a standard RNN contains a single layer.\\nLSTMs also have this chain like structure, but the repeating module has a different structure. Instead of having a singleneural network layer, there are four, interacting in a very special way.\\nThe repeating module in an LSTM contains four interacting layers.\\nDon’t worry about the details of what’s going on. We’ll walk through the LSTM diagram step by step later. For now,let’s just try to get comfortable with the notation we’ll be using.\\nIn the above diagram, each line carries an entire vector, from the output of one node to the inputs of others. The pinkcircles represent pointwise operations, like vector addition, while the yellow boxes are learned neural network layers.Lines merging denote concatenation, while a line forking denote its content being copied and the copies going todifferent locations.\\nThe Core Idea Behind LSTMs\\nThe key to LSTMs is the cell state, the horizontal line running through the top of the diagram.\\nThe cell state is kind of like a conveyor belt. It runs straight down the entire chain, with only some minor linearinteractions. It’s very easy for information to just flow along it unchanged.\\nThe LSTM does have the ability to remove or add information to the cell state, carefully regulated by structures calledgates.'),\n",
       " Document(metadata={'producer': 'Skia/PDF m136', 'creator': 'Mozilla/5.0 (Windows NT 10.0; Win64; x64) AppleWebKit/537.36 (KHTML, like Gecko) Chrome/136.0.0.0 Safari/537.36 Edg/136.0.0.0', 'creationdate': '2025-05-10T23:15:04+00:00', 'title': \"Understanding LSTM Networks -- colah's blog\", 'moddate': '2025-05-10T23:15:04+00:00', 'source': 'c:\\\\Users\\\\redhu\\\\OneDrive\\\\Desktop\\\\document_portal\\\\notebook\\\\data\\\\sample.pdf', 'total_pages': 7, 'page': 3, 'page_label': '4'}, page_content='Gates are a way to optionally let information through. They are composed out of a sigmoid neural net layer and apointwise multiplication operation.\\nThe sigmoid layer outputs numbers between zero and one, describing how much of each component should be letthrough. A value of zero means “let nothing through,” while a value of one means “let everything through!”\\nAn LSTM has three of these gates, to protect and control the cell state.\\nStep-by-Step LSTM Walk Through\\nThe first step in our LSTM is to decide what information we’re going to throw away from the cell state. This decision ismade by a sigmoid layer called the “forget gate layer.” It looks at  and , and outputs a number between  and for each number in the cell state . A  represents “completely keep this” while a  represents “completely get rid ofthis.”\\nLet’s go back to our example of a language model trying to predict the next word based on all the previous ones. Insuch a problem, the cell state might include the gender of the present subject, so that the correct pronouns can be used.When we see a new subject, we want to forget the gender of the old subject.\\nThe next step is to decide what new information we’re going to store in the cell state. This has two parts. First, asigmoid layer called the “input gate layer” decides which values we’ll update. Next, a tanh layer creates a vector of newcandidate values, , that could be added to the state. In the next step, we’ll combine these two to create an update tothe state.\\nIn the example of our language model, we’d want to add the gender of the new subject to the cell state, to replace theold one we’re forgetting.\\nIt’s now time to update the old cell state, , into the new cell state . The previous steps already decided what todo, we just need to actually do it.\\nWe multiply the old state by , forgetting the things we decided to forget earlier. Then we add . This is the newcandidate values, scaled by how much we decided to update each state value.\\nIn the case of the language model, this is where we’d actually drop the information about the old subject’s gender andadd the new information, as we decided in the previous steps.\\nht−1 xt 0 1Ct−1 1 0\\nC~t\\nCt−1 Ct\\nft ∗it C~t'),\n",
       " Document(metadata={'producer': 'Skia/PDF m136', 'creator': 'Mozilla/5.0 (Windows NT 10.0; Win64; x64) AppleWebKit/537.36 (KHTML, like Gecko) Chrome/136.0.0.0 Safari/537.36 Edg/136.0.0.0', 'creationdate': '2025-05-10T23:15:04+00:00', 'title': \"Understanding LSTM Networks -- colah's blog\", 'moddate': '2025-05-10T23:15:04+00:00', 'source': 'c:\\\\Users\\\\redhu\\\\OneDrive\\\\Desktop\\\\document_portal\\\\notebook\\\\data\\\\sample.pdf', 'total_pages': 7, 'page': 4, 'page_label': '5'}, page_content='Finally, we need to decide what we’re going to output. This output will be based on our cell state, but will be a filteredversion. First, we run a sigmoid layer which decides what parts of the cell state we’re going to output. Then, we put thecell state through  (to push the values to be between  and ) and multiply it by the output of the sigmoid gate,so that we only output the parts we decided to.\\nFor the language model example, since it just saw a subject, it might want to output information relevant to a verb, incase that’s what is coming next. For example, it might output whether the subject is singular or plural, so that weknow what form a verb should be conjugated into if that’s what follows next.\\nVariants on Long Short Term Memory\\nWhat I’ve described so far is a pretty normal LSTM. But not all LSTMs are the same as the above. In fact, it seemslike almost every paper involving LSTMs uses a slightly different version. The differences are minor, but it’s worthmentioning some of them.\\nOne popular LSTM variant, introduced by Gers & Schmidhuber (2000) (ftp://ftp.idsia.ch/pub/juergen/TimeCount-IJCNN2000.pdf), is adding “peephole connections.” This means that we let the gate layers look at the cell state.\\nThe above diagram adds peepholes to all the gates, but many papers will give some peepholes and not others.\\nAnother variation is to use coupled forget and input gates. Instead of separately deciding what to forget and what weshould add new information to, we make those decisions together. We only forget when we’re going to input somethingin its place. We only input new values to the state when we forget something older.\\ntanh −1 1'),\n",
       " Document(metadata={'producer': 'Skia/PDF m136', 'creator': 'Mozilla/5.0 (Windows NT 10.0; Win64; x64) AppleWebKit/537.36 (KHTML, like Gecko) Chrome/136.0.0.0 Safari/537.36 Edg/136.0.0.0', 'creationdate': '2025-05-10T23:15:04+00:00', 'title': \"Understanding LSTM Networks -- colah's blog\", 'moddate': '2025-05-10T23:15:04+00:00', 'source': 'c:\\\\Users\\\\redhu\\\\OneDrive\\\\Desktop\\\\document_portal\\\\notebook\\\\data\\\\sample.pdf', 'total_pages': 7, 'page': 5, 'page_label': '6'}, page_content='A slightly more dramatic variation on the LSTM is the Gated Recurrent Unit, or GRU, introduced by Cho, et al.(2014) (http://arxiv.org/pdf/1406.1078v3.pdf). It combines the forget and input gates into a single “update gate.” Italso merges the cell state and hidden state, and makes some other changes. The resulting model is simpler thanstandard LSTM models, and has been growing increasingly popular.\\nThese are only a few of the most notable LSTM variants. There are lots of others, like Depth Gated RNNs by Yao, etal. (2015) (http://arxiv.org/pdf/1508.03790v2.pdf). There’s also some completely different approach to tackling long-term dependencies, like Clockwork RNNs by Koutnik, et al. (2014) (http://arxiv.org/pdf/1402.3511v1.pdf).\\nWhich of these variants is best? Do the differences matter? Greff, et al. (2015) (http://arxiv.org/pdf/1503.04069.pdf)do a nice comparison of popular variants, finding that they’re all about the same. Jozefowicz, et al. (2015)(http://jmlr.org/proceedings/papers/v37/jozefowicz15.pdf) tested more than ten thousand RNN architectures, findingsome that worked better than LSTMs on certain tasks.\\nConclusion\\nEarlier, I mentioned the remarkable results people are achieving with RNNs. Essentially all of these are achieved usingLSTMs. They really work a lot better for most tasks!\\nWritten down as a set of equations, LSTMs look pretty intimidating. Hopefully, walking through them step by step inthis essay has made them a bit more approachable.\\nLSTMs were a big step in what we can accomplish with RNNs. It’s natural to wonder: is there another big step? Acommon opinion among researchers is: “Yes! There is a next step and it’s attention!” The idea is to let every step of anRNN pick information to look at from some larger collection of information. For example, if you are using an RNN tocreate a caption describing an image, it might pick a part of the image to look at for every word it outputs. In fact, Xu,et al. (2015) (http://arxiv.org/pdf/1502.03044v2.pdf) do exactly this – it might be a fun starting point if you want toexplore attention! There’s been a number of really exciting results using attention, and it seems like a lot more arearound the corner…\\nAttention isn’t the only exciting thread in RNN research. For example, Grid LSTMs by Kalchbrenner, et al. (2015)(http://arxiv.org/pdf/1507.01526v1.pdf) seem extremely promising. Work using RNNs in generative models – such asGregor, et al. (2015) (http://arxiv.org/pdf/1502.04623.pdf), Chung, et al. (2015)(http://arxiv.org/pdf/1506.02216v3.pdf), or Bayer & Osendorfer (2015) (http://arxiv.org/pdf/1411.7610v3.pdf) – alsoseems very interesting. The last few years have been an exciting time for recurrent neural networks, and the comingones promise to only be more so!\\nAcknowledgments\\nI’m grateful to a number of people for helping me better understand LSTMs, commenting on the visualizations, andproviding feedback on this post.'),\n",
       " Document(metadata={'producer': 'Skia/PDF m136', 'creator': 'Mozilla/5.0 (Windows NT 10.0; Win64; x64) AppleWebKit/537.36 (KHTML, like Gecko) Chrome/136.0.0.0 Safari/537.36 Edg/136.0.0.0', 'creationdate': '2025-05-10T23:15:04+00:00', 'title': \"Understanding LSTM Networks -- colah's blog\", 'moddate': '2025-05-10T23:15:04+00:00', 'source': 'c:\\\\Users\\\\redhu\\\\OneDrive\\\\Desktop\\\\document_portal\\\\notebook\\\\data\\\\sample.pdf', 'total_pages': 7, 'page': 6, 'page_label': '7'}, page_content='Attention and AugmentedRecurrent Neural Networks\\nOn Distill\\n Conv Nets\\nA Modular Perspective\\n Neural Networks, Manifolds,and Topology\\nDeep Learning, NLP, andRepresentations\\nI’m very grateful to my colleagues at Google for their helpful feedback, especially Oriol Vinyals(http://research.google.com/pubs/OriolVinyals.html), Greg Corrado(http://research.google.com/pubs/GregCorrado.html), Jon Shlens(http://research.google.com/pubs/JonathonShlens.html), Luke Vilnis (http://people.cs.umass.edu/~luke/), and IlyaSutskever (http://www.cs.toronto.edu/~ilya/). I’m also thankful to many other friends and colleagues for taking thetime to help me, including Dario Amodei (https://www.linkedin.com/pub/dario-amodei/4/493/393), and JacobSteinhardt (http://cs.stanford.edu/~jsteinhardt/). I’m especially thankful to Kyunghyun Cho(http://www.kyunghyuncho.me/) for extremely thoughtful correspondence about my diagrams.\\nBefore this post, I practiced explaining LSTMs during two seminar series I taught on neural networks. Thanks toeveryone who participated in those for their patience with me, and for their feedback.\\n1. In addition to the original authors, a lot of people contributed to the modern LSTM. A non-comprehensive list is:Felix Gers, Fred Cummins, Santiago Fernandez, Justin Bayer, Daan Wierstra, Julian Togelius, Faustino Gomez,Matteo Gagliolo, and Alex Graves (https://scholar.google.com/citations?user=DaFHynwAAAAJ&hl=en).↩ \\nMore Posts\\n(http://distill.pub/2016/augmented-rnns/) (../../posts/2014-07-Conv-Nets-Modular/) (../../posts/2014-03-NN-Manifolds-Topology/) (../../posts/2014-07-NLP-RNNs-Representations/)\\n83 Comments (/posts/2015-08-Understanding-LSTMs/#disqus_thread)')]"
      ]
     },
     "execution_count": 17,
     "metadata": {},
     "output_type": "execute_result"
    }
   ],
   "source": [
    "documents"
   ]
  },
  {
   "cell_type": "markdown",
   "id": "667c5709",
   "metadata": {},
   "source": [
    "## Text splitting"
   ]
  },
  {
   "cell_type": "code",
   "execution_count": 19,
   "id": "df1d7a4d",
   "metadata": {},
   "outputs": [],
   "source": [
    "#texr splitting\n",
    "text_splitter=RecursiveCharacterTextSplitter(chunk_size=500, chunk_overlap=50,length_function=len)"
   ]
  },
  {
   "cell_type": "code",
   "execution_count": 20,
   "id": "759b40e6",
   "metadata": {},
   "outputs": [],
   "source": [
    "docs=text_splitter.split_documents(documents)"
   ]
  },
  {
   "cell_type": "code",
   "execution_count": 22,
   "id": "6f46e12c",
   "metadata": {},
   "outputs": [
    {
     "data": {
      "text/plain": [
       "45"
      ]
     },
     "execution_count": 22,
     "metadata": {},
     "output_type": "execute_result"
    }
   ],
   "source": [
    "len(docs)"
   ]
  },
  {
   "cell_type": "code",
   "execution_count": 23,
   "id": "78d86f74",
   "metadata": {},
   "outputs": [
    {
     "data": {
      "text/plain": [
       "'Understanding LSTM Networks\\nPosted on August 27, 2015\\nRecurrent Neural Networks\\nHumans don’t start their thinking from scratch every second. As you read this essay, you understand each word basedon your understanding of previous words. You don’t throw everything away and start thinking from scratch again. Yourthoughts have persistence.'"
      ]
     },
     "execution_count": 23,
     "metadata": {},
     "output_type": "execute_result"
    }
   ],
   "source": [
    "docs[0].page_content"
   ]
  },
  {
   "cell_type": "code",
   "execution_count": 25,
   "id": "4a33752a",
   "metadata": {},
   "outputs": [
    {
     "data": {
      "text/plain": [
       "{'producer': 'Skia/PDF m136',\n",
       " 'creator': 'Mozilla/5.0 (Windows NT 10.0; Win64; x64) AppleWebKit/537.36 (KHTML, like Gecko) Chrome/136.0.0.0 Safari/537.36 Edg/136.0.0.0',\n",
       " 'creationdate': '2025-05-10T23:15:04+00:00',\n",
       " 'title': \"Understanding LSTM Networks -- colah's blog\",\n",
       " 'moddate': '2025-05-10T23:15:04+00:00',\n",
       " 'source': 'c:\\\\Users\\\\redhu\\\\OneDrive\\\\Desktop\\\\document_portal\\\\notebook\\\\data\\\\sample.pdf',\n",
       " 'total_pages': 7,\n",
       " 'page': 0,\n",
       " 'page_label': '1'}"
      ]
     },
     "execution_count": 25,
     "metadata": {},
     "output_type": "execute_result"
    }
   ],
   "source": [
    "docs[0].metadata"
   ]
  },
  {
   "cell_type": "markdown",
   "id": "7cef3193",
   "metadata": {},
   "source": [
    "## Embedding and store the Embedded Data"
   ]
  },
  {
   "cell_type": "code",
   "execution_count": 34,
   "id": "1eec9276",
   "metadata": {},
   "outputs": [],
   "source": [
    "vector_store=FAISS.from_documents(docs, embedding_model)"
   ]
  },
  {
   "cell_type": "code",
   "execution_count": 35,
   "id": "551536bf",
   "metadata": {},
   "outputs": [
    {
     "data": {
      "text/plain": [
       "1536"
      ]
     },
     "execution_count": 35,
     "metadata": {},
     "output_type": "execute_result"
    }
   ],
   "source": [
    "len(embedding_model.embed_documents(docs[0].page_content)[0])"
   ]
  },
  {
   "cell_type": "code",
   "execution_count": 41,
   "id": "03732f55",
   "metadata": {},
   "outputs": [],
   "source": [
    "relevent_documents=vector_store.similarity_search(\"What is the main idea of the document?\",k=2)"
   ]
  },
  {
   "cell_type": "code",
   "execution_count": 42,
   "id": "0d845848",
   "metadata": {},
   "outputs": [
    {
     "data": {
      "text/plain": [
       "'In the above diagram, each line carries an entire vector, from the output of one node to the inputs of others. The pinkcircles represent pointwise operations, like vector addition, while the yellow boxes are learned neural network layers.Lines merging denote concatenation, while a line forking denote its content being copied and the copies going todifferent locations.\\nThe Core Idea Behind LSTMs\\nThe key to LSTMs is the cell state, the horizontal line running through the top of the diagram.'"
      ]
     },
     "execution_count": 42,
     "metadata": {},
     "output_type": "execute_result"
    }
   ],
   "source": [
    "relevent_documents[1].page_content"
   ]
  },
  {
   "cell_type": "code",
   "execution_count": null,
   "id": "ec2488ba",
   "metadata": {},
   "outputs": [],
   "source": [
    "#store the embbededd data on disk\n",
    "vector_store.save_local(\"faiss_index\")"
   ]
  },
  {
   "cell_type": "code",
   "execution_count": null,
   "id": "e5174b23",
   "metadata": {},
   "outputs": [],
   "source": [
    "#set vector as retriever\n",
    "retriever=vector_store.as_retriever()\n",
    "\n"
   ]
  },
  {
   "cell_type": "code",
   "execution_count": 46,
   "id": "a37d1836",
   "metadata": {},
   "outputs": [
    {
     "data": {
      "text/plain": [
       "[Document(id='2a8c6410-ff67-4533-bc02-911363e8ef08', metadata={'producer': 'Skia/PDF m136', 'creator': 'Mozilla/5.0 (Windows NT 10.0; Win64; x64) AppleWebKit/537.36 (KHTML, like Gecko) Chrome/136.0.0.0 Safari/537.36 Edg/136.0.0.0', 'creationdate': '2025-05-10T23:15:04+00:00', 'title': \"Understanding LSTM Networks -- colah's blog\", 'moddate': '2025-05-10T23:15:04+00:00', 'source': 'c:\\\\Users\\\\redhu\\\\OneDrive\\\\Desktop\\\\document_portal\\\\notebook\\\\data\\\\sample.pdf', 'total_pages': 7, 'page': 1, 'page_label': '2'}, page_content='who found some pretty fundamental reasons why it mightbe difficult.'),\n",
       " Document(id='9d679b73-8073-4023-8901-8cdd5364cefb', metadata={'producer': 'Skia/PDF m136', 'creator': 'Mozilla/5.0 (Windows NT 10.0; Win64; x64) AppleWebKit/537.36 (KHTML, like Gecko) Chrome/136.0.0.0 Safari/537.36 Edg/136.0.0.0', 'creationdate': '2025-05-10T23:15:04+00:00', 'title': \"Understanding LSTM Networks -- colah's blog\", 'moddate': '2025-05-10T23:15:04+00:00', 'source': 'c:\\\\Users\\\\redhu\\\\OneDrive\\\\Desktop\\\\document_portal\\\\notebook\\\\data\\\\sample.pdf', 'total_pages': 7, 'page': 2, 'page_label': '3'}, page_content='In the above diagram, each line carries an entire vector, from the output of one node to the inputs of others. The pinkcircles represent pointwise operations, like vector addition, while the yellow boxes are learned neural network layers.Lines merging denote concatenation, while a line forking denote its content being copied and the copies going todifferent locations.\\nThe Core Idea Behind LSTMs\\nThe key to LSTMs is the cell state, the horizontal line running through the top of the diagram.'),\n",
       " Document(id='cab9a569-02b0-41d7-b48d-8cdd1b2c4be2', metadata={'producer': 'Skia/PDF m136', 'creator': 'Mozilla/5.0 (Windows NT 10.0; Win64; x64) AppleWebKit/537.36 (KHTML, like Gecko) Chrome/136.0.0.0 Safari/537.36 Edg/136.0.0.0', 'creationdate': '2025-05-10T23:15:04+00:00', 'title': \"Understanding LSTM Networks -- colah's blog\", 'moddate': '2025-05-10T23:15:04+00:00', 'source': 'c:\\\\Users\\\\redhu\\\\OneDrive\\\\Desktop\\\\document_portal\\\\notebook\\\\data\\\\sample.pdf', 'total_pages': 7, 'page': 2, 'page_label': '3'}, page_content='The cell state is kind of like a conveyor belt. It runs straight down the entire chain, with only some minor linearinteractions. It’s very easy for information to just flow along it unchanged.\\nThe LSTM does have the ability to remove or add information to the cell state, carefully regulated by structures calledgates.'),\n",
       " Document(id='33e9c3b3-4bdc-4f75-bbfb-45be4803109e', metadata={'producer': 'Skia/PDF m136', 'creator': 'Mozilla/5.0 (Windows NT 10.0; Win64; x64) AppleWebKit/537.36 (KHTML, like Gecko) Chrome/136.0.0.0 Safari/537.36 Edg/136.0.0.0', 'creationdate': '2025-05-10T23:15:04+00:00', 'title': \"Understanding LSTM Networks -- colah's blog\", 'moddate': '2025-05-10T23:15:04+00:00', 'source': 'c:\\\\Users\\\\redhu\\\\OneDrive\\\\Desktop\\\\document_portal\\\\notebook\\\\data\\\\sample.pdf', 'total_pages': 7, 'page': 2, 'page_label': '3'}, page_content='Don’t worry about the details of what’s going on. We’ll walk through the LSTM diagram step by step later. For now,let’s just try to get comfortable with the notation we’ll be using.')]"
      ]
     },
     "execution_count": 46,
     "metadata": {},
     "output_type": "execute_result"
    }
   ],
   "source": [
    "retriever.invoke(\"What is the main idea of the document?\")"
   ]
  },
  {
   "cell_type": "code",
   "execution_count": 50,
   "id": "6773036f",
   "metadata": {},
   "outputs": [],
   "source": [
    "prompt_template=\"\"\"Answer the question based on the context provided.\n",
    "if you don't have sufficient information, just say \"I don't have the information\"\n",
    "\n",
    "context: {context}\n",
    "\n",
    "Question: {question}\n",
    "\n",
    "Answer:\n",
    "\"\"\""
   ]
  },
  {
   "cell_type": "code",
   "execution_count": null,
   "id": "fff03d91",
   "metadata": {},
   "outputs": [],
   "source": [
    "\n",
    "prompt=PromptTemplate(\n",
    "    template=prompt_template,\n",
    "    input_variables=[\"context\", \"question\"]\n",
    ")"
   ]
  },
  {
   "cell_type": "code",
   "execution_count": 52,
   "id": "e0f6667d",
   "metadata": {},
   "outputs": [
    {
     "data": {
      "text/plain": [
       "PromptTemplate(input_variables=['context', 'question'], input_types={}, partial_variables={}, template='Answer the question based on the context provided.\\nif you don\\'t have sufficient information, just say \"I don\\'t have the information\"\\n\\ncontext: {context}\\n\\nQuestion: {question}\\n\\nAnswer:\\n')"
      ]
     },
     "execution_count": 52,
     "metadata": {},
     "output_type": "execute_result"
    }
   ],
   "source": [
    "prompt"
   ]
  },
  {
   "cell_type": "code",
   "execution_count": 57,
   "id": "13fc770d",
   "metadata": {},
   "outputs": [],
   "source": [
    "def format_docs(docs):\n",
    "    return \"/n/n\".join([doc.page_content for doc in docs])"
   ]
  },
  {
   "cell_type": "code",
   "execution_count": 69,
   "id": "4a7319a0",
   "metadata": {},
   "outputs": [],
   "source": [
    "reg_chain=(\n",
    "        {\"context\":retriever | format_docs, \"question\": RunnablePassthrough()}\n",
    "        | prompt\n",
    "        | LLM\n",
    "        | StrOutputParser()\n",
    "    )"
   ]
  },
  {
   "cell_type": "code",
   "execution_count": 75,
   "id": "64bf4168",
   "metadata": {},
   "outputs": [
    {
     "data": {
      "text/plain": [
       "'Variants on Long Short Term Memory (LSTM) are slight modifications and different versions of the standard LSTM architecture that have been proposed in various research papers. These variants often address specific tasks or improve certain aspects of the basic LSTM model. Notable examples include Depth Gated RNNs and Clockwork RNNs. Research has shown that while there are multiple variants, their performance is generally similar, with some architectures potentially outperforming LSTMs for specific tasks.'"
      ]
     },
     "execution_count": 75,
     "metadata": {},
     "output_type": "execute_result"
    }
   ],
   "source": [
    "reg_chain.invoke(\"What is the Variants on Long Short Term Memory?\")"
   ]
  },
  {
   "cell_type": "code",
   "execution_count": null,
   "id": "9d31278d",
   "metadata": {},
   "outputs": [],
   "source": []
  }
 ],
 "metadata": {
  "kernelspec": {
   "display_name": ".venv",
   "language": "python",
   "name": "python3"
  },
  "language_info": {
   "codemirror_mode": {
    "name": "ipython",
    "version": 3
   },
   "file_extension": ".py",
   "mimetype": "text/x-python",
   "name": "python",
   "nbconvert_exporter": "python",
   "pygments_lexer": "ipython3",
   "version": "3.11.13"
  }
 },
 "nbformat": 4,
 "nbformat_minor": 5
}
